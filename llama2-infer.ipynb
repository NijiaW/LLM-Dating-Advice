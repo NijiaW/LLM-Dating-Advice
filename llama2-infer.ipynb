{
 "cells": [
  {
   "cell_type": "code",
   "execution_count": 1,
   "id": "48734c4f",
   "metadata": {
    "scrolled": true
   },
   "outputs": [
    {
     "data": {
      "application/vnd.jupyter.widget-view+json": {
       "model_id": "36e34378406849299e18ce127174b68a",
       "version_major": 2,
       "version_minor": 0
      },
      "text/plain": [
       "Loading checkpoint shards:   0%|          | 0/2 [00:00<?, ?it/s]"
      ]
     },
     "metadata": {},
     "output_type": "display_data"
    },
    {
     "name": "stderr",
     "output_type": "stream",
     "text": [
      "/home/ubuntu/.local/lib/python3.8/site-packages/transformers/generation/configuration_utils.py:362: UserWarning: `do_sample` is set to `False`. However, `temperature` is set to `0.9` -- this flag is only used in sample-based generation modes. You should set `do_sample=True` or unset `temperature`. This was detected when initializing the generation config instance, which means the corresponding file may hold incorrect parameterization and should be fixed.\n",
      "  warnings.warn(\n",
      "/home/ubuntu/.local/lib/python3.8/site-packages/transformers/generation/configuration_utils.py:367: UserWarning: `do_sample` is set to `False`. However, `top_p` is set to `0.6` -- this flag is only used in sample-based generation modes. You should set `do_sample=True` or unset `top_p`. This was detected when initializing the generation config instance, which means the corresponding file may hold incorrect parameterization and should be fixed.\n",
      "  warnings.warn(\n"
     ]
    }
   ],
   "source": [
    "from transformers import AutoTokenizer\n",
    "import transformers\n",
    "import torch\n",
    "\n",
    "model = \"PPD-PPX/llama2finetunedTest-v1\"\n",
    "\n",
    "tokenizer = AutoTokenizer.from_pretrained(model)\n",
    "pipeline = transformers.pipeline(\n",
    "    \"text-generation\",\n",
    "    model=model,\n",
    "    torch_dtype=torch.float16,\n",
    "    device_map=\"auto\",\n",
    ")\n"
   ]
  },
  {
   "cell_type": "code",
   "execution_count": 9,
   "id": "38000efc",
   "metadata": {},
   "outputs": [
    {
     "name": "stdout",
     "output_type": "stream",
     "text": [
      "dict_keys(['ISTJ', 'ISFJ', 'INFJ', 'INTJ', 'ISTP', 'ISFP', 'INFP', 'INTP', 'ESTP', 'ESFP', 'ENFP', 'ENTP', 'ESTJ', 'ESFJ', 'ENFJ', 'ENTJ'])\n"
     ]
    }
   ],
   "source": [
    "import json\n",
    "sixteenPersonalities = dict(json.load(open(\"16persons.json\", \"r\")))\n",
    "print(sixteenPersonalities.keys())"
   ]
  },
  {
   "cell_type": "code",
   "execution_count": 23,
   "id": "1615c361",
   "metadata": {},
   "outputs": [
    {
     "name": "stdout",
     "output_type": "stream",
     "text": [
      "Result: Giving me 3 tips for dating with a girl with a personality code ENFP, where she has the following personality description:\n",
      " Warmly enthusiastic and imaginative. See life as full of possibilities. Make connections between events and information very quickly, and confidently proceed based on the patterns they see. Want a lot of affirmation from others, and readily give appreciation and support. Spontaneous and flexible, often rely on their ability to improvise and their verbal fluency.\n",
      "\n",
      "Thank you!\n",
      "\n",
      "Dating an ENFP (Extraversion, Intuition, Feeling, Perceiving) can be a thrilling experience, as they are known for their warmth, enthusiasm, and imaginative nature. Here are three tips for dating an ENFP with a personality code like the one you provided:\n",
      "\n",
      "Tip #1: Appreciate Their Creativity and Imagination\n",
      "\n",
      "ENFPs are known for their creative and imaginative nature, so it's essential to appreciate their artistic side. Encourage them to express themselves through their favorite hobbies or activities, such as writing, painting, or playing music. Showing interest in their creative pursuits will not only bring you closer to them but also help you understand their personality better.\n",
      "\n",
      "Tip #2: Be Spontaneous and Flexible\n",
      "\n",
      "ENFPs value spontaneity and flexibility, so be open to last-minute plans or unexpected changes in their schedule. They enjoy improvising and adapting to new situations, so be prepared to roll with the punches. By being spontaneous and flexible, you'll show that you're willing to go with the flow and enjoy the moment.\n",
      "\n",
      "Tip #3: Provide Regular Affirmation and Support\n",
      "\n",
      "ENFPs crave affection and appreciation from their partners, so it's crucial to provide regular affirmation and support. Let them know that you value their ideas, opinions, and emotions, and be willing to listen to their thoughts and feelings. By showing appreciation and support, you'll help them feel confident and secure in the relationship.\n",
      "\n",
      "In summary, to date an ENFP successfully, you should prioritize their creativity and imagination, be spontaneous and flexible, and provide regular affirmation and support. By doing so, you'll create a fun, exciting, and fulfilling relationship that will bring out the best in both of you.\n"
     ]
    }
   ],
   "source": [
    "def get_a_plan(personality_code):\n",
    "    if (not personality_code in sixteenPersonalities):\n",
    "        print(\"We do not recognize your personality code: %s\"%personality_code)\n",
    "        return \n",
    "    description = sixteenPersonalities[personality_code]\n",
    "    \n",
    "    query = \"Giving me 3 tips for dating with a girl with a personality code %s\"%(personality_code) + \\\n",
    "    \", where she has the following personality description:\\n %s\\n\\n\"%(description)\n",
    "    sequences = pipeline(\n",
    "        query,\n",
    "        do_sample=True,\n",
    "        top_k=20,\n",
    "        num_return_sequences=1,\n",
    "        eos_token_id=tokenizer.eos_token_id,\n",
    "        max_length=1000\n",
    "    )\n",
    "    \n",
    "    for seq in sequences:\n",
    "        print(\"Result: %s\"%seq['generated_text'])\n",
    "    return \n",
    "\n",
    "#get_a_plan(\"ISTJ\")\n",
    "get_a_plan(\"ENFP\")\n",
    "\n"
   ]
  },
  {
   "cell_type": "code",
   "execution_count": null,
   "id": "93b13cc4",
   "metadata": {},
   "outputs": [],
   "source": []
  }
 ],
 "metadata": {
  "kernelspec": {
   "display_name": "Python 3",
   "language": "python",
   "name": "python3"
  },
  "language_info": {
   "codemirror_mode": {
    "name": "ipython",
    "version": 3
   },
   "file_extension": ".py",
   "mimetype": "text/x-python",
   "name": "python",
   "nbconvert_exporter": "python",
   "pygments_lexer": "ipython3",
   "version": "3.8.10"
  }
 },
 "nbformat": 4,
 "nbformat_minor": 5
}
